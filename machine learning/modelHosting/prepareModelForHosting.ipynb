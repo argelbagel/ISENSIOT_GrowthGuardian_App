{
 "cells": [
  {
   "cell_type": "code",
   "execution_count": 1,
   "metadata": {},
   "outputs": [],
   "source": [
    "import os"
   ]
  },
  {
   "cell_type": "code",
   "execution_count": 2,
   "metadata": {},
   "outputs": [],
   "source": [
    "MODEL_FOLDER = 'models'\n",
    "MODEL_SAVED_NAME = 'firstModel'\n",
    "MODEL_NAME = 'firstModel'\n",
    "MODEL_VERSION = '1'"
   ]
  },
  {
   "cell_type": "code",
   "execution_count": 3,
   "metadata": {},
   "outputs": [],
   "source": [
    "# Define paths on host and guest system\n",
    "model_path_host = os.path.join(os.getcwd(), MODEL_FOLDER, MODEL_SAVED_NAME, 'model')\n",
    "model_path_guest = os.path.join('/models', MODEL_NAME, MODEL_VERSION)"
   ]
  },
  {
   "cell_type": "code",
   "execution_count": 4,
   "metadata": {},
   "outputs": [
    {
     "name": "stdout",
     "output_type": "stream",
     "text": [
      "c:\\Users\\michi\\Desktop\\school\\inisensiot\\project\\machine learning\\code\\modelHosting\\models\\firstModel\\model\n"
     ]
    }
   ],
   "source": [
    "print(model_path_host)"
   ]
  },
  {
   "cell_type": "code",
   "execution_count": 5,
   "metadata": {},
   "outputs": [],
   "source": [
    "# Container start command\n",
    "docker_run_cmd = f'docker run ' \\\n",
    "                 f'-p 8501:8501 ' \\\n",
    "                 f'-v {model_path_host}:{model_path_guest} ' \\\n",
    "                 f'-e MODEL_NAME={MODEL_NAME} ' \\\n",
    "                 f'-d ' \\\n",
    "                 f'--name tf_serving ' \\\n",
    "                 f'tensorflow/serving'"
   ]
  },
  {
   "cell_type": "code",
   "execution_count": 6,
   "metadata": {},
   "outputs": [],
   "source": [
    "# If container is not running, create a new instance and run it\n",
    "docker_run_cmd_cond = f'if [ ! \"$(docker ps -q -f name=tf_serving)\" ]; then \\n' \\\n",
    "                      f'   if [ \"$(docker ps -aq -f status=exited -f name=tf_serving)\" ]; then \t\t\t\t\t\t\t\t\t\t\t\t\t\t\\n' \\\n",
    "                      f'   \t\tdocker rm tf_serving \\n' \\\n",
    "                      f'   fi \\n' \\\n",
    "                      f'   {docker_run_cmd} \\n' \\\n",
    "                      f'fi'"
   ]
  },
  {
   "cell_type": "code",
   "execution_count": 7,
   "metadata": {},
   "outputs": [
    {
     "data": {
      "text/plain": [
       "1"
      ]
     },
     "execution_count": 7,
     "metadata": {},
     "output_type": "execute_result"
    }
   ],
   "source": [
    "# Start container\n",
    "os.system(docker_run_cmd_cond)"
   ]
  }
 ],
 "metadata": {
  "kernelspec": {
   "display_name": "makePlantModel",
   "language": "python",
   "name": "python3"
  },
  "language_info": {
   "codemirror_mode": {
    "name": "ipython",
    "version": 3
   },
   "file_extension": ".py",
   "mimetype": "text/x-python",
   "name": "python",
   "nbconvert_exporter": "python",
   "pygments_lexer": "ipython3",
   "version": "3.7.5"
  }
 },
 "nbformat": 4,
 "nbformat_minor": 2
}
