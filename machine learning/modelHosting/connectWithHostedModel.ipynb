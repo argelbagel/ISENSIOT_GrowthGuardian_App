{
 "cells": [
  {
   "cell_type": "code",
   "execution_count": 1,
   "metadata": {},
   "outputs": [],
   "source": [
    "from tensorflow.keras.preprocessing import image\n",
    "from tensorflow.keras.applications.resnet_v2 import preprocess_input\n",
    "import tensorflow as tf\n",
    "import PIL\n",
    "import PIL.Image\n",
    "import json\n",
    "import requests\n",
    "import numpy as np"
   ]
  },
  {
   "cell_type": "code",
   "execution_count": 2,
   "metadata": {},
   "outputs": [],
   "source": [
    "path = r\"C:\\Users\\michi\\Desktop\\school\\inisensiot\\project\\machine learning\\code\\testModel\\testData\\Rhododendron-simsii.jpg\""
   ]
  },
  {
   "cell_type": "code",
   "execution_count": 3,
   "metadata": {},
   "outputs": [
    {
     "name": "stdout",
     "output_type": "stream",
     "text": [
      "(1, 180, 180, 3)\n"
     ]
    }
   ],
   "source": [
    "img = image.load_img(path, target_size=(180, 180, 3))\n",
    "# img = tf.expand_dims(img, 0)\n",
    "img = image.img_to_array(img)\n",
    "\n",
    "\n",
    "img = np.expand_dims(img, 0) \n",
    "\n",
    "# img.tolist()\n",
    "\n",
    "print(img.shape)"
   ]
  },
  {
   "cell_type": "code",
   "execution_count": 4,
   "metadata": {},
   "outputs": [],
   "source": [
    "request_url = 'http://localhost:8501/v1/models/plantModel:predict'\n",
    "request_body = json.dumps({\"signature_name\": \"serving_default\", \"instances\": img.tolist()})\n",
    "request_headers = {\"content-type\": \"application/json\"}\n",
    "json_response = requests.post(request_url, data=request_body, headers=request_headers)\n",
    "response_body = json.loads(json_response.text)\n",
    "# predictions = response_body['predictions']"
   ]
  },
  {
   "cell_type": "code",
   "execution_count": 6,
   "metadata": {},
   "outputs": [],
   "source": [
    "predictions = response_body['predictions']"
   ]
  },
  {
   "cell_type": "code",
   "execution_count": 11,
   "metadata": {},
   "outputs": [
    {
     "name": "stdout",
     "output_type": "stream",
     "text": [
      "This image most likely belongs to Rhododendron simsii with a 29.17 percent confidence.\n"
     ]
    }
   ],
   "source": [
    "score = tf.nn.softmax(predictions[0])\n",
    "\n",
    "class_names = ['Adiantum caudatum', 'Dypsis lutescens', 'Ficus elastica', 'Narcissus papyraceus', 'Rhododendron simsii']\n",
    "\n",
    "print(\n",
    "    \"This image most likely belongs to {} with a {:.2f} percent confidence.\"\n",
    "    .format(class_names[np.argmax(score)], 100 * np.max(score))\n",
    ")"
   ]
  }
 ],
 "metadata": {
  "kernelspec": {
   "display_name": "buildFinalPlantModels",
   "language": "python",
   "name": "python3"
  },
  "language_info": {
   "codemirror_mode": {
    "name": "ipython",
    "version": 3
   },
   "file_extension": ".py",
   "mimetype": "text/x-python",
   "name": "python",
   "nbconvert_exporter": "python",
   "pygments_lexer": "ipython3",
   "version": "3.11.7"
  }
 },
 "nbformat": 4,
 "nbformat_minor": 2
}
