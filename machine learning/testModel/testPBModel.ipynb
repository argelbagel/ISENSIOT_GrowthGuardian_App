{
 "cells": [
  {
   "cell_type": "code",
   "execution_count": 1,
   "metadata": {},
   "outputs": [],
   "source": [
    "#general imports\n",
    "import numpy as np\n",
    "import PIL\n",
    "import tensorflow as tf\n",
    "import os\n",
    "import pathlib"
   ]
  },
  {
   "cell_type": "code",
   "execution_count": 2,
   "metadata": {},
   "outputs": [],
   "source": [
    "#tensorflow example imports\n",
    "# import matplotlib.pyplot as plt\n",
    "from tensorflow import keras\n",
    "from tensorflow.keras import layers\n",
    "from tensorflow.keras.models import Sequential"
   ]
  },
  {
   "cell_type": "code",
   "execution_count": 3,
   "metadata": {},
   "outputs": [],
   "source": [
    "#other example imports\n",
    "# import os\n",
    "# import PIL.Image\n",
    "# from tensorflow.keras.preprocessing import image\n",
    "# from tensorflow.keras.applications.resnet_v2 import preprocess_input\n",
    "# import pathlib"
   ]
  },
  {
   "cell_type": "code",
   "execution_count": 4,
   "metadata": {},
   "outputs": [],
   "source": [
    "model = tf.saved_model.load(r\"C:\\Users\\michi\\Desktop\\school\\inisensiot\\project\\machine learning\\code\\modelHosting\\models\\plantModel\\1\")"
   ]
  },
  {
   "cell_type": "code",
   "execution_count": 5,
   "metadata": {},
   "outputs": [],
   "source": [
    "path = r\"C:\\Users\\michi\\Desktop\\school\\inisensiot\\project\\machine learning\\code\\testModel\\testData\""
   ]
  },
  {
   "cell_type": "code",
   "execution_count": 6,
   "metadata": {},
   "outputs": [],
   "source": [
    "data_dir = pathlib.Path(path)"
   ]
  },
  {
   "cell_type": "code",
   "execution_count": 7,
   "metadata": {},
   "outputs": [
    {
     "name": "stdout",
     "output_type": "stream",
     "text": [
      "1000082209.jpg\n"
     ]
    },
    {
     "name": "stdout",
     "output_type": "stream",
     "text": [
      "This image most likely belongs to Adiantum caudatum with a 34.81 percent confidence.\n",
      "20240116_124756.jpg\n",
      "This image most likely belongs to Adiantum caudatum with a 31.91 percent confidence.\n",
      "20240116_124802.jpg\n",
      "This image most likely belongs to Adiantum caudatum with a 29.30 percent confidence.\n",
      "20240116_124808.jpg\n",
      "This image most likely belongs to Gasteria acinacifolia with a 28.73 percent confidence.\n",
      "20240116_124814.jpg\n",
      "This image most likely belongs to Adiantum caudatum with a 30.58 percent confidence.\n",
      "20240116_124822.jpg\n",
      "This image most likely belongs to Adiantum caudatum with a 37.80 percent confidence.\n",
      "20240116_124824.jpg\n",
      "This image most likely belongs to Adiantum caudatum with a 34.34 percent confidence.\n",
      "731580_v_t5.jpg\n",
      "This image most likely belongs to Gasteria acinacifolia with a 34.00 percent confidence.\n",
      "Adiantum-caudatum.jpg\n",
      "This image most likely belongs to Gasteria acinacifolia with a 27.52 percent confidence.\n",
      "adiantum.jpg\n",
      "This image most likely belongs to Gasteria acinacifolia with a 46.68 percent confidence.\n",
      "adiantus.jpg\n",
      "This image most likely belongs to Adiantum caudatum with a 36.14 percent confidence.\n",
      "adiaterut.jpg\n",
      "This image most likely belongs to Adiantum caudatum with a 37.73 percent confidence.\n",
      "adiatuse.jpg\n",
      "This image most likely belongs to Adiantum caudatum with a 38.47 percent confidence.\n",
      "adutius.jpg\n",
      "This image most likely belongs to Adiantum caudatum with a 31.24 percent confidence.\n",
      "download (1).jpg\n",
      "This image most likely belongs to Gasteria acinacifolia with a 32.18 percent confidence.\n",
      "download.jpg\n",
      "This image most likely belongs to Gasteria acinacifolia with a 41.69 percent confidence.\n",
      "fd20279wh.jpg\n",
      "This image most likely belongs to Narcissus papyraceus with a 32.11 percent confidence.\n",
      "Gasteria-Bicolor-12cm-DeCactusWinkel-scaled-e1622405506898.jpg\n",
      "This image most likely belongs to Gasteria acinacifolia with a 32.99 percent confidence.\n",
      "images (1).jpg\n",
      "This image most likely belongs to Narcissus papyraceus with a 76.46 percent confidence.\n",
      "images (2).jpg\n",
      "This image most likely belongs to Gasteria acinacifolia with a 26.15 percent confidence.\n",
      "images (3).jpg\n",
      "This image most likely belongs to Adiantum caudatum with a 33.11 percent confidence.\n",
      "images (4).jpg\n",
      "This image most likely belongs to Adiantum caudatum with a 40.62 percent confidence.\n",
      "images (5).jpg\n",
      "This image most likely belongs to Adiantum caudatum with a 36.67 percent confidence.\n",
      "images (6).jpg\n",
      "This image most likely belongs to Adiantum caudatum with a 39.01 percent confidence.\n",
      "images.jpg\n",
      "This image most likely belongs to Narcissus papyraceus with a 91.97 percent confidence.\n",
      "IMG_1268.jpg\n",
      "This image most likely belongs to Gasteria acinacifolia with a 30.06 percent confidence.\n",
      "itaire.jpg\n",
      "This image most likely belongs to Adiantum caudatum with a 30.26 percent confidence.\n",
      "j.jpg\n",
      "This image most likely belongs to Adiantum caudatum with a 33.08 percent confidence.\n",
      "m.jpg\n",
      "This image most likely belongs to Adiantum caudatum with a 33.60 percent confidence.\n",
      "nacis.jpg\n",
      "This image most likely belongs to Gasteria acinacifolia with a 37.66 percent confidence.\n",
      "narcast.jpg\n",
      "This image most likely belongs to Adiantum caudatum with a 37.55 percent confidence.\n",
      "narcissus-indoor-forcing-paperwhite-inbal-15-16-cm-100-p-3843-nl-G.jpg\n",
      "This image most likely belongs to Gasteria acinacifolia with a 28.92 percent confidence.\n",
      "narcist.jpg\n",
      "This image most likely belongs to Adiantum caudatum with a 31.55 percent confidence.\n",
      "Rhododendron-Simsii-SR-foto-51-1-scaled.jpg\n",
      "This image most likely belongs to Narcissus papyraceus with a 95.12 percent confidence.\n",
      "Rhododendron-simsii.jpg\n",
      "This image most likely belongs to Narcissus papyraceus with a 99.88 percent confidence.\n",
      "sol.jpg\n",
      "This image most likely belongs to Narcissus papyraceus with a 98.43 percent confidence.\n"
     ]
    }
   ],
   "source": [
    "for plant in list(data_dir.glob('*.jpg')):\n",
    "    print(os.path.basename(plant))\n",
    "    img = tf.keras.utils.load_img(\n",
    "    plant, target_size=(180, 180)\n",
    "    )\n",
    "    img_array = tf.keras.utils.img_to_array(img)\n",
    "    img_array = tf.expand_dims(img_array, 0) # Create a batch\n",
    "    predictions = model(img_array)\n",
    "    score = tf.nn.softmax(predictions[0])\n",
    "    class_names = ['Adiantum caudatum', 'Dypsis lutescens', 'Ficus elastica', 'Narcissus papyraceus', 'Rhododendron simsii']\n",
    "    print(\n",
    "    \"This image most likely belongs to {} with a {:.2f} percent confidence.\"\n",
    "    .format(class_names[np.argmax(score)], 100 * np.max(score))\n",
    "    )\n"
   ]
  },
  {
   "cell_type": "code",
   "execution_count": 8,
   "metadata": {},
   "outputs": [],
   "source": [
    "# img = tf.keras.utils.load_img(\n",
    "#     path, target_size=(180, 180)\n",
    "# )"
   ]
  },
  {
   "cell_type": "code",
   "execution_count": 9,
   "metadata": {},
   "outputs": [],
   "source": [
    "# img_array = tf.keras.utils.img_to_array(img)\n",
    "# img_array = tf.expand_dims(img_array, 0) # Create a batch"
   ]
  },
  {
   "cell_type": "code",
   "execution_count": 10,
   "metadata": {},
   "outputs": [],
   "source": [
    "# predictions = model(img_array)"
   ]
  },
  {
   "cell_type": "code",
   "execution_count": 11,
   "metadata": {},
   "outputs": [],
   "source": [
    "# score = tf.nn.softmax(predictions[0])"
   ]
  },
  {
   "cell_type": "code",
   "execution_count": 12,
   "metadata": {},
   "outputs": [],
   "source": [
    "# class_names = ['Adiantum caudatum', 'Ardisia crenata', 'Dypsis lutescens', 'Ficus elastica', 'Gasteria acinacifolia', 'Narcissus papyraceus', 'Rhododendron simsii']"
   ]
  },
  {
   "cell_type": "code",
   "execution_count": 13,
   "metadata": {},
   "outputs": [],
   "source": [
    "# print(\n",
    "#     \"This image most likely belongs to {} with a {:.2f} percent confidence.\"\n",
    "#     .format(class_names[np.argmax(score)], 100 * np.max(score))\n",
    "# )"
   ]
  },
  {
   "cell_type": "code",
   "execution_count": 14,
   "metadata": {},
   "outputs": [],
   "source": [
    "# img = image.load_img(path, target_size=(180, 180))\n",
    "# img = image.img_to_array(img)"
   ]
  },
  {
   "cell_type": "code",
   "execution_count": 15,
   "metadata": {},
   "outputs": [],
   "source": [
    "# img_array = tf.keras.utils.img_to_array(img)\n",
    "# img_array = tf.expand_dims(img_array, 0) # Create a batch"
   ]
  },
  {
   "cell_type": "code",
   "execution_count": 16,
   "metadata": {},
   "outputs": [],
   "source": [
    "# predictions = model(img.tolist())"
   ]
  }
 ],
 "metadata": {
  "kernelspec": {
   "display_name": "buildFinalPlantModels",
   "language": "python",
   "name": "python3"
  },
  "language_info": {
   "codemirror_mode": {
    "name": "ipython",
    "version": 3
   },
   "file_extension": ".py",
   "mimetype": "text/x-python",
   "name": "python",
   "nbconvert_exporter": "python",
   "pygments_lexer": "ipython3",
   "version": "3.11.7"
  }
 },
 "nbformat": 4,
 "nbformat_minor": 2
}
