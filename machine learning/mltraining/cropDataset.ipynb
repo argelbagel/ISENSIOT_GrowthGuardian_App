{
 "cells": [
  {
   "cell_type": "code",
   "execution_count": 1,
   "metadata": {},
   "outputs": [],
   "source": [
    "import cv2\n",
    "import os\n",
    "import pathlib"
   ]
  },
  {
   "cell_type": "code",
   "execution_count": 2,
   "metadata": {},
   "outputs": [],
   "source": [
    "# mainFolderPath = r\"C:\\Users\\michi\\Desktop\\school\\inisensiot\\project\\machine learning\\code\\mlTraining\\smallDataset\""
   ]
  },
  {
   "cell_type": "code",
   "execution_count": 3,
   "metadata": {},
   "outputs": [],
   "source": [
    "mainFolderPath = r\"C:\\Users\\michi\\Desktop\\school\\inisensiot\\project\\machine learning\\code\\testModel\\testData\""
   ]
  },
  {
   "cell_type": "code",
   "execution_count": 4,
   "metadata": {},
   "outputs": [],
   "source": [
    "data_dir = pathlib.Path(mainFolderPath)"
   ]
  },
  {
   "cell_type": "code",
   "execution_count": 5,
   "metadata": {},
   "outputs": [
    {
     "name": "stdout",
     "output_type": "stream",
     "text": [
      "d.jpg\n",
      "s.jpg\n"
     ]
    }
   ],
   "source": [
    "for folder in list(data_dir.glob('*')):\n",
    "    folderName = os.path.basename(folder)\n",
    "    for plant in list(data_dir.glob(folderName + '/*.jpg')):\n",
    "        plantName = os.path.basename(plant)\n",
    "        print(plantName)\n",
    "        img = cv2.imread(mainFolderPath+'/'+folderName + '/' + plantName)\n",
    "        height = img.shape[0]\n",
    "        width = img.shape[1]\n",
    "        if(height>width):\n",
    "            crop_height = width\n",
    "            crop_width = width\n",
    "        elif(width>height):\n",
    "            crop_height = height\n",
    "            crop_width = height\n",
    "        else:\n",
    "            crop_height = height\n",
    "            crop_width = width\n",
    "        mid_x, mid_y = int(width/2), int(height/2)\n",
    "        cw2, ch2 = int(crop_width/2), int(crop_height/2) \n",
    "        crop_img = img[mid_y-ch2:mid_y+ch2, mid_x-cw2:mid_x+cw2]\n",
    "        cv2.imwrite(mainFolderPath+'/'+folderName + '/' + plantName, crop_img)"
   ]
  }
 ],
 "metadata": {
  "kernelspec": {
   "display_name": "buildFinalPlantModels",
   "language": "python",
   "name": "python3"
  },
  "language_info": {
   "codemirror_mode": {
    "name": "ipython",
    "version": 3
   },
   "file_extension": ".py",
   "mimetype": "text/x-python",
   "name": "python",
   "nbconvert_exporter": "python",
   "pygments_lexer": "ipython3",
   "version": "3.11.7"
  }
 },
 "nbformat": 4,
 "nbformat_minor": 2
}
