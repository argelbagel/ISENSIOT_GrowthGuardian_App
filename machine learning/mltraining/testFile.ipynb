{
 "cells": [
  {
   "cell_type": "code",
   "execution_count": 1,
   "metadata": {},
   "outputs": [],
   "source": [
    "import pathlib\n",
    "import cv2\n",
    "import os"
   ]
  },
  {
   "cell_type": "code",
   "execution_count": 2,
   "metadata": {},
   "outputs": [],
   "source": [
    "mainFolderPath = r\"C:\\Users\\michi\\Desktop\\school\\inisensiot\\project\\machine learning\\code\\mlTraining\\dataset\"\n",
    "singleTestFilePath = mainFolderPath + \"\\Agapanthus africanus\\c901c3b77a6f52feabcf17ad61f58dcacaa05fb4.jpg\""
   ]
  },
  {
   "cell_type": "code",
   "execution_count": 3,
   "metadata": {},
   "outputs": [],
   "source": [
    "def testFile():\n",
    "    image = cv2.imread(singleTestFilePath)\n",
    "    if image is None:\n",
    "        print(\"a\")\n",
    "    else:\n",
    "        print(\"b\")"
   ]
  },
  {
   "cell_type": "code",
   "execution_count": 4,
   "metadata": {},
   "outputs": [
    {
     "name": "stdout",
     "output_type": "stream",
     "text": [
      "b\n"
     ]
    }
   ],
   "source": [
    "testFile()"
   ]
  }
 ],
 "metadata": {
  "kernelspec": {
   "display_name": "prepDataset",
   "language": "python",
   "name": "python3"
  },
  "language_info": {
   "codemirror_mode": {
    "name": "ipython",
    "version": 3
   },
   "file_extension": ".py",
   "mimetype": "text/x-python",
   "name": "python",
   "nbconvert_exporter": "python",
   "pygments_lexer": "ipython3",
   "version": "3.8.18"
  }
 },
 "nbformat": 4,
 "nbformat_minor": 2
}
