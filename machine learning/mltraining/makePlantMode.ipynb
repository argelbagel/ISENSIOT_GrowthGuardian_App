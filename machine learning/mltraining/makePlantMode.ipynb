{
 "cells": [
  {
   "cell_type": "code",
   "execution_count": 1,
   "metadata": {},
   "outputs": [],
   "source": [
    "import numpy as np\n",
    "import os\n",
    "import PIL\n",
    "import PIL.Image\n",
    "import tensorflow as tf\n",
    "# import tensorflow_datasets as tfds\n",
    "import pathlib"
   ]
  },
  {
   "cell_type": "code",
   "execution_count": 2,
   "metadata": {},
   "outputs": [
    {
     "name": "stdout",
     "output_type": "stream",
     "text": [
      "Found 501 files belonging to 5 classes.\n",
      "Using 401 files for training.\n",
      "Found 501 files belonging to 5 classes.\n",
      "Using 100 files for validation.\n"
     ]
    }
   ],
   "source": [
    "#load dataset from image folders and applies the correct labels\n",
    "data_dir = pathlib.Path(r\"C:\\Users\\michi\\Desktop\\school\\inisensiot\\project\\machine learning\\code\\mlTraining\\smallDataset\")\n",
    "batch_size = 32\n",
    "img_height = 180\n",
    "img_width = 180\n",
    "train_ds = tf.keras.utils.image_dataset_from_directory(\n",
    "    data_dir,\n",
    "    validation_split=0.2,\n",
    "    subset=\"training\",\n",
    "    seed=123,\n",
    "    image_size=(img_height, img_width),\n",
    "    batch_size=batch_size)\n",
    "val_ds = tf.keras.utils.image_dataset_from_directory(\n",
    "    data_dir,\n",
    "    validation_split=0.2,\n",
    "    subset=\"validation\",\n",
    "    seed=123,\n",
    "    image_size=(img_height, img_width),\n",
    "    batch_size=batch_size)"
   ]
  },
  {
   "cell_type": "code",
   "execution_count": 3,
   "metadata": {},
   "outputs": [
    {
     "name": "stdout",
     "output_type": "stream",
     "text": [
      "['Adiantum caudatum', 'Dypsis lutescens', 'Ficus elastica', 'Narcissus papyraceus', 'Rhododendron simsii']\n"
     ]
    }
   ],
   "source": [
    "#note on where class names are stored\n",
    "class_names = train_ds.class_names\n",
    "print(class_names)"
   ]
  },
  {
   "cell_type": "code",
   "execution_count": 4,
   "metadata": {},
   "outputs": [],
   "source": [
    "# def writeLabel(line):\n",
    "#     file = open(r\"C:\\Users\\michi\\Desktop\\school\\inisensiot\\project\\machine learning\\code\\mlTraining\\tempLabels.txt\", \"a\")\n",
    "#     file.write(line+'\\n')\n",
    "#     file.close()"
   ]
  },
  {
   "cell_type": "code",
   "execution_count": 5,
   "metadata": {},
   "outputs": [],
   "source": [
    "# for i in class_names:\n",
    "#     writeLabel(i)"
   ]
  },
  {
   "cell_type": "code",
   "execution_count": 6,
   "metadata": {},
   "outputs": [],
   "source": [
    "#pre process images for later training\n",
    "normalization_layer = tf.keras.layers.Rescaling(1./255)\n",
    "normalized_ds = train_ds.map(lambda x, y: (normalization_layer(x), y))\n",
    "image_batch, labels_batch = next(iter(normalized_ds))\n",
    "\n",
    "AUTOTUNE = tf.data.AUTOTUNE\n",
    "\n",
    "train_ds = train_ds.cache().prefetch(buffer_size=AUTOTUNE)\n",
    "val_ds = val_ds.cache().prefetch(buffer_size=AUTOTUNE)"
   ]
  },
  {
   "cell_type": "code",
   "execution_count": 7,
   "metadata": {},
   "outputs": [],
   "source": [
    "num_classes = 5\n",
    "\n",
    "model = tf.keras.Sequential([\n",
    "  tf.keras.layers.Rescaling(1./255),\n",
    "  tf.keras.layers.Conv2D(32, 3, activation='relu'),\n",
    "  tf.keras.layers.MaxPooling2D(),\n",
    "  tf.keras.layers.Conv2D(32, 3, activation='relu'),\n",
    "  tf.keras.layers.MaxPooling2D(),\n",
    "  tf.keras.layers.Conv2D(32, 3, activation='relu'),\n",
    "  tf.keras.layers.MaxPooling2D(),\n",
    "  tf.keras.layers.Flatten(),\n",
    "  tf.keras.layers.Dense(128, activation='relu'),\n",
    "  tf.keras.layers.Dense(num_classes)\n",
    "])"
   ]
  },
  {
   "cell_type": "code",
   "execution_count": 8,
   "metadata": {},
   "outputs": [],
   "source": [
    "model.compile(\n",
    "  optimizer='adam',\n",
    "  loss=tf.keras.losses.SparseCategoricalCrossentropy(from_logits=True),\n",
    "  metrics=['accuracy'])"
   ]
  },
  {
   "cell_type": "code",
   "execution_count": 9,
   "metadata": {},
   "outputs": [
    {
     "name": "stdout",
     "output_type": "stream",
     "text": [
      "Epoch 1/3\n"
     ]
    },
    {
     "name": "stdout",
     "output_type": "stream",
     "text": [
      "13/13 [==============================] - 13s 879ms/step - loss: 1.6605 - accuracy: 0.2544 - val_loss: 1.5516 - val_accuracy: 0.2400\n",
      "Epoch 2/3\n",
      "13/13 [==============================] - 11s 819ms/step - loss: 1.3820 - accuracy: 0.3641 - val_loss: 1.3382 - val_accuracy: 0.3400\n",
      "Epoch 3/3\n",
      "13/13 [==============================] - 11s 880ms/step - loss: 1.2339 - accuracy: 0.4788 - val_loss: 1.2836 - val_accuracy: 0.5100\n"
     ]
    },
    {
     "data": {
      "text/plain": [
       "<keras.src.callbacks.History at 0x22990922f10>"
      ]
     },
     "execution_count": 9,
     "metadata": {},
     "output_type": "execute_result"
    }
   ],
   "source": [
    "model.fit(\n",
    "  train_ds,\n",
    "  validation_data=val_ds,\n",
    "  epochs=3\n",
    ")"
   ]
  },
  {
   "cell_type": "code",
   "execution_count": 10,
   "metadata": {},
   "outputs": [],
   "source": [
    "folderPath = r\"C:\\Users\\michi\\Desktop\\school\\inisensiot\\project\\machine learning\\code\\modelHosting\\models\\plantModel\""
   ]
  },
  {
   "cell_type": "code",
   "execution_count": 11,
   "metadata": {},
   "outputs": [
    {
     "ename": "FileExistsError",
     "evalue": "[WinError 183] Kan geen bestand maken dat al bestaat: 'C:\\\\Users\\\\michi\\\\Desktop\\\\school\\\\inisensiot\\\\project\\\\machine learning\\\\code\\\\modelHosting\\\\models\\\\firstRedo\\\\plantModel'",
     "output_type": "error",
     "traceback": [
      "\u001b[1;31m---------------------------------------------------------------------------\u001b[0m",
      "\u001b[1;31mFileExistsError\u001b[0m                           Traceback (most recent call last)",
      "Cell \u001b[1;32mIn[11], line 1\u001b[0m\n\u001b[1;32m----> 1\u001b[0m \u001b[43mos\u001b[49m\u001b[38;5;241;43m.\u001b[39;49m\u001b[43mmkdir\u001b[49m\u001b[43m(\u001b[49m\u001b[43mfolderPath\u001b[49m\u001b[43m)\u001b[49m\n\u001b[0;32m      2\u001b[0m model_path \u001b[38;5;241m=\u001b[39m folderPath \u001b[38;5;241m+\u001b[39m \u001b[38;5;124m\"\u001b[39m\u001b[38;5;124m/1\u001b[39m\u001b[38;5;124m\"\u001b[39m\n",
      "\u001b[1;31mFileExistsError\u001b[0m: [WinError 183] Kan geen bestand maken dat al bestaat: 'C:\\\\Users\\\\michi\\\\Desktop\\\\school\\\\inisensiot\\\\project\\\\machine learning\\\\code\\\\modelHosting\\\\models\\\\firstRedo\\\\plantModel'"
     ]
    }
   ],
   "source": [
    "os.mkdir(folderPath)\n",
    "model_path = folderPath + \"/1\""
   ]
  },
  {
   "cell_type": "code",
   "execution_count": null,
   "metadata": {},
   "outputs": [
    {
     "name": "stdout",
     "output_type": "stream",
     "text": [
      "INFO:tensorflow:Assets written to: C:\\Users\\michi\\Desktop\\school\\inisensiot\\project\\machine learning\\code\\modelHosting\\models\\firstRedo\\plantModel/1\\assets\n"
     ]
    },
    {
     "name": "stderr",
     "output_type": "stream",
     "text": [
      "INFO:tensorflow:Assets written to: C:\\Users\\michi\\Desktop\\school\\inisensiot\\project\\machine learning\\code\\modelHosting\\models\\firstRedo\\plantModel/1\\assets\n"
     ]
    }
   ],
   "source": [
    "model.save(filepath=model_path)"
   ]
  },
  {
   "cell_type": "code",
   "execution_count": null,
   "metadata": {},
   "outputs": [],
   "source": [
    "# class_df = pd.DataFrame({'classes': class_names})\n",
    "# class_df.to_pickle(folderpath + \"classes.pickle\")\n",
    "\n"
   ]
  },
  {
   "cell_type": "code",
   "execution_count": null,
   "metadata": {},
   "outputs": [],
   "source": [
    "#test the model"
   ]
  },
  {
   "cell_type": "code",
   "execution_count": null,
   "metadata": {},
   "outputs": [],
   "source": [
    "# path = r\"C:\\Users\\michi\\Desktop\\school\\inisensiot\\project\\machine learning\\code\\testModel\\testData\\Rhododendron-simsii.jpg\"\n",
    "\n",
    "# img = image.load_img(path, target_size=(180, 180))\n",
    "# img = image.img_to_array(img)\n",
    "# '\n",
    "# # img_array = tf.keras.utils.img_to_array(img)\n",
    "# # img_array = tf.expand_dims(img_array, 0) # Create a batch\n",
    "\n",
    "# predictions = model.predict(img.tolist())"
   ]
  }
 ],
 "metadata": {
  "kernelspec": {
   "display_name": "prepDataset",
   "language": "python",
   "name": "python3"
  },
  "language_info": {
   "codemirror_mode": {
    "name": "ipython",
    "version": 3
   },
   "file_extension": ".py",
   "mimetype": "text/x-python",
   "name": "python",
   "nbconvert_exporter": "python",
   "pygments_lexer": "ipython3",
   "version": "3.11.7"
  }
 },
 "nbformat": 4,
 "nbformat_minor": 2
}
